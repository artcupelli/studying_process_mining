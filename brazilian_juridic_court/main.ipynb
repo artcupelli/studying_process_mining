{
 "cells": [
  {
   "cell_type": "code",
   "execution_count": 2,
   "metadata": {},
   "outputs": [],
   "source": [
    "import pm4py"
   ]
  },
  {
   "cell_type": "markdown",
   "metadata": {},
   "source": [
    "# 01 Log de eventos\n",
    "Descrever o log de eventos."
   ]
  },
  {
   "cell_type": "code",
   "execution_count": 10,
   "metadata": {},
   "outputs": [
    {
     "data": {
      "application/vnd.jupyter.widget-view+json": {
       "model_id": "9ace5d9ed6e74ad586c46beebd8c4ec7",
       "version_major": 2,
       "version_minor": 0
      },
      "text/plain": [
       "parsing log, completed traces ::   0%|          | 0/4795 [00:00<?, ?it/s]"
      ]
     },
     "metadata": {},
     "output_type": "display_data"
    },
    {
     "name": "stdout",
     "output_type": "stream",
     "text": [
      "               distribution_date        org:resource order  \\\n",
      "0      2020-02-04 13:06:00+00:00  NBJH56504647452616     2   \n",
      "1      2020-02-04 13:06:00+00:00  NBJH56504647452616     2   \n",
      "2      2020-02-04 13:06:00+00:00  NBJH56504647452616     1   \n",
      "3      2020-02-04 13:06:00+00:00  NBJH56504647452616     1   \n",
      "4      2020-02-04 13:06:00+00:00  NBJH56504647452616     0   \n",
      "...                          ...                 ...   ...   \n",
      "533663 2018-12-28 18:09:00+00:00  HEKK33273625011808     0   \n",
      "533664 2018-12-28 18:09:00+00:00  HEKK33273625011808     1   \n",
      "533665 2018-12-28 18:09:00+00:00  HEKK33273625011808     1   \n",
      "533666 2018-12-28 18:09:00+00:00  HEKK33273625011808     0   \n",
      "533667 2018-12-28 18:09:00+00:00  HEKK33273625011808     0   \n",
      "\n",
      "                                             concept:name  \\\n",
      "0                                                 Decisão   \n",
      "1                                                 Decisão   \n",
      "2                                  Conclusos para Decisão   \n",
      "3                                  Conclusos para Decisão   \n",
      "4       Distribuído Livremente (por Sorteio) (moviment...   \n",
      "...                                                   ...   \n",
      "533663                    Certidão de Publicação Expedida   \n",
      "533664  Remetidos os Autos para o Tribunal de Justiça/...   \n",
      "533665  Remetidos os Autos para o Tribunal de Justiça/...   \n",
      "533666                             Expedição de documento   \n",
      "533667                             Expedição de documento   \n",
      "\n",
      "       lifecycle:transition            time:timestamp case:control case:area  \\\n",
      "0                     start 2020-01-22 00:00:00+00:00  2020/000087     Cível   \n",
      "1                  complete 2020-01-22 00:00:00+00:00  2020/000087     Cível   \n",
      "2                     start 2020-01-22 00:00:00+00:00  2020/000087     Cível   \n",
      "3                  complete 2020-01-22 00:00:00+00:00  2020/000087     Cível   \n",
      "4                     start 2020-01-22 00:00:00+00:00  2020/000087     Cível   \n",
      "...                     ...                       ...          ...       ...   \n",
      "533663             complete 2020-01-07 00:00:00+00:00  2018/001126     Cível   \n",
      "533664                start 2020-01-21 00:00:00+00:00  2018/001126     Cível   \n",
      "533665             complete 2020-01-21 00:00:00+00:00  2018/001126     Cível   \n",
      "533666                start 2020-01-21 00:00:00+00:00  2018/001126     Cível   \n",
      "533667             complete 2020-01-21 00:00:00+00:00  2018/001126     Cível   \n",
      "\n",
      "       case:subject_matter                              case:court_department  \\\n",
      "0                 Franquia  2ª VARA EMPRESARIAL E CONFLITOS DE ARBITRAGEM ...   \n",
      "1                 Franquia  2ª VARA EMPRESARIAL E CONFLITOS DE ARBITRAGEM ...   \n",
      "2                 Franquia  2ª VARA EMPRESARIAL E CONFLITOS DE ARBITRAGEM ...   \n",
      "3                 Franquia  2ª VARA EMPRESARIAL E CONFLITOS DE ARBITRAGEM ...   \n",
      "4                 Franquia  2ª VARA EMPRESARIAL E CONFLITOS DE ARBITRAGEM ...   \n",
      "...                    ...                                                ...   \n",
      "533663               Marca  2ª VARA EMPRESARIAL E CONFLITOS DE ARBITRAGEM ...   \n",
      "533664               Marca  2ª VARA EMPRESARIAL E CONFLITOS DE ARBITRAGEM ...   \n",
      "533665               Marca  2ª VARA EMPRESARIAL E CONFLITOS DE ARBITRAGEM ...   \n",
      "533666               Marca  2ª VARA EMPRESARIAL E CONFLITOS DE ARBITRAGEM ...   \n",
      "533667               Marca  2ª VARA EMPRESARIAL E CONFLITOS DE ARBITRAGEM ...   \n",
      "\n",
      "       case:claim_amount                case:class          case:concept:name  \\\n",
      "0              17.284,24  Procedimento Comum Cível  0000536-07.2020.8.26.0003   \n",
      "1              17.284,24  Procedimento Comum Cível  0000536-07.2020.8.26.0003   \n",
      "2              17.284,24  Procedimento Comum Cível  0000536-07.2020.8.26.0003   \n",
      "3              17.284,24  Procedimento Comum Cível  0000536-07.2020.8.26.0003   \n",
      "4              17.284,24  Procedimento Comum Cível  0000536-07.2020.8.26.0003   \n",
      "...                  ...                       ...                        ...   \n",
      "533663        100.000,00  Procedimento Comum Cível  1134599-20.2018.8.26.0100   \n",
      "533664        100.000,00  Procedimento Comum Cível  1134599-20.2018.8.26.0100   \n",
      "533665        100.000,00  Procedimento Comum Cível  1134599-20.2018.8.26.0100   \n",
      "533666        100.000,00  Procedimento Comum Cível  1134599-20.2018.8.26.0100   \n",
      "533667        100.000,00  Procedimento Comum Cível  1134599-20.2018.8.26.0100   \n",
      "\n",
      "       case:digital         case:status  \n",
      "0        VERDADEIRO                 NaN  \n",
      "1        VERDADEIRO                 NaN  \n",
      "2        VERDADEIRO                 NaN  \n",
      "3        VERDADEIRO                 NaN  \n",
      "4        VERDADEIRO                 NaN  \n",
      "...             ...                 ...  \n",
      "533663        FALSO  Em grau de recurso  \n",
      "533664        FALSO  Em grau de recurso  \n",
      "533665        FALSO  Em grau de recurso  \n",
      "533666        FALSO  Em grau de recurso  \n",
      "533667        FALSO  Em grau de recurso  \n",
      "\n",
      "[533668 rows x 15 columns]\n"
     ]
    }
   ],
   "source": [
    "event_log = pm4py.read_xes('../_datasets/02_PROCESSO_TRIBUNAL.xes')\n",
    "print(event_log)\n"
   ]
  },
  {
   "cell_type": "markdown",
   "metadata": {},
   "source": [
    "# 02 Estatísticas básicas\n",
    "Extração das seguintes estátisticas: número de eventos, número de cases, número de atividades, tempo médio por case, número médio de atividades por case."
   ]
  },
  {
   "cell_type": "code",
   "execution_count": 11,
   "metadata": {},
   "outputs": [
    {
     "name": "stdout",
     "output_type": "stream",
     "text": [
      "          distribution_date        org:resource order  \\\n",
      "0 2020-02-04 13:06:00+00:00  NBJH56504647452616     2   \n",
      "1 2020-02-04 13:06:00+00:00  NBJH56504647452616     2   \n",
      "2 2020-02-04 13:06:00+00:00  NBJH56504647452616     1   \n",
      "3 2020-02-04 13:06:00+00:00  NBJH56504647452616     1   \n",
      "4 2020-02-04 13:06:00+00:00  NBJH56504647452616     0   \n",
      "\n",
      "                                        concept:name lifecycle:transition  \\\n",
      "0                                            Decisão                start   \n",
      "1                                            Decisão             complete   \n",
      "2                             Conclusos para Decisão                start   \n",
      "3                             Conclusos para Decisão             complete   \n",
      "4  Distribuído Livremente (por Sorteio) (moviment...                start   \n",
      "\n",
      "             time:timestamp case:control case:area case:subject_matter  \\\n",
      "0 2020-01-22 00:00:00+00:00  2020/000087     Cível            Franquia   \n",
      "1 2020-01-22 00:00:00+00:00  2020/000087     Cível            Franquia   \n",
      "2 2020-01-22 00:00:00+00:00  2020/000087     Cível            Franquia   \n",
      "3 2020-01-22 00:00:00+00:00  2020/000087     Cível            Franquia   \n",
      "4 2020-01-22 00:00:00+00:00  2020/000087     Cível            Franquia   \n",
      "\n",
      "                               case:court_department case:claim_amount  \\\n",
      "0  2ª VARA EMPRESARIAL E CONFLITOS DE ARBITRAGEM ...         17.284,24   \n",
      "1  2ª VARA EMPRESARIAL E CONFLITOS DE ARBITRAGEM ...         17.284,24   \n",
      "2  2ª VARA EMPRESARIAL E CONFLITOS DE ARBITRAGEM ...         17.284,24   \n",
      "3  2ª VARA EMPRESARIAL E CONFLITOS DE ARBITRAGEM ...         17.284,24   \n",
      "4  2ª VARA EMPRESARIAL E CONFLITOS DE ARBITRAGEM ...         17.284,24   \n",
      "\n",
      "                 case:class          case:concept:name case:digital  \\\n",
      "0  Procedimento Comum Cível  0000536-07.2020.8.26.0003   VERDADEIRO   \n",
      "1  Procedimento Comum Cível  0000536-07.2020.8.26.0003   VERDADEIRO   \n",
      "2  Procedimento Comum Cível  0000536-07.2020.8.26.0003   VERDADEIRO   \n",
      "3  Procedimento Comum Cível  0000536-07.2020.8.26.0003   VERDADEIRO   \n",
      "4  Procedimento Comum Cível  0000536-07.2020.8.26.0003   VERDADEIRO   \n",
      "\n",
      "  case:status  \n",
      "0         NaN  \n",
      "1         NaN  \n",
      "2         NaN  \n",
      "3         NaN  \n",
      "4         NaN  \n"
     ]
    }
   ],
   "source": [
    "print(event_log.head())"
   ]
  }
 ],
 "metadata": {
  "kernelspec": {
   "display_name": "Python 3.8.10 64-bit",
   "language": "python",
   "name": "python3"
  },
  "language_info": {
   "codemirror_mode": {
    "name": "ipython",
    "version": 3
   },
   "file_extension": ".py",
   "mimetype": "text/x-python",
   "name": "python",
   "nbconvert_exporter": "python",
   "pygments_lexer": "ipython3",
   "version": "3.8.10"
  },
  "orig_nbformat": 4,
  "vscode": {
   "interpreter": {
    "hash": "916dbcbb3f70747c44a77c7bcd40155683ae19c65e1c03b4aa3499c5328201f1"
   }
  }
 },
 "nbformat": 4,
 "nbformat_minor": 2
}
